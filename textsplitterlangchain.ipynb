{
 "cells": [
  {
   "cell_type": "code",
   "execution_count": 1,
   "id": "20f70a27-aa6c-4e54-bc47-5a985258e183",
   "metadata": {},
   "outputs": [],
   "source": [
    "from langchain.document_loaders import TextLoader"
   ]
  },
  {
   "cell_type": "code",
   "execution_count": 2,
   "id": "05381a24-4279-4932-a006-f84f8035ec03",
   "metadata": {},
   "outputs": [
    {
     "data": {
      "text/plain": [
       "[Document(page_content=\"US-based technology giant Nvidia Corporation, currently the second-largest company in terms of global market cap, briefly ranked first on Wednesday, surpassing giants like Microsoft and Apple. Nvidia is now more valuable than some of the largest global markets, according to ET Bureau.\\nglobal markets\\n\\nâ€‹â€‹Nvidia's market cap gains in 2024 are bigger than Sensex. In 2024, Nvidia Corporation's market cap increased by 163%, rising from $1.22 trillion to $3.22 trillion. This gain surpasses the total market cap of the Sensex, which stands at $1.82 trillion.\\nâ€‹Nvidia's market cap is equivalent to the combined of 13 Reliance Industries, 20 TCS, 21 HDFC Bank, and 32 Bharti Airtel\\nMicrosoft: $3.312 trillion\\nNvidia: $3.216 trillion\\nApple: $3.215 trillion\\nAlphabet (Google): $2.186 trillion\\nAmazon: $1.936 trillion\\nFollowing a decline from global peers, Indian headline equity indices closed in the red on Friday, dragged down by index heavyweights Reliance Industries, L&T, and HDFC Bank.The BSE benchmark Sensex declined 269 points or 0.35% to settle at 77,209. The broader NSE Nifty dropped 66 points or 0.28% to end at 23,501.\", metadata={'source': 'nvidia.txt'})]"
      ]
     },
     "execution_count": 2,
     "metadata": {},
     "output_type": "execute_result"
    }
   ],
   "source": [
    "loader = TextLoader(\"nvidia.txt\")\n",
    "data = loader.load()\n",
    "data"
   ]
  },
  {
   "cell_type": "code",
   "execution_count": 3,
   "id": "1096725a-9032-45e4-9e6b-de6786a64097",
   "metadata": {},
   "outputs": [],
   "source": [
    "text = \"\"\"The main namespace is the default namespace and does not use a prefix in article page names. This is distinct from other namespaces, where page names are always prefixed by an indicator of the particular namespace in which the page resides. For example, all user pages are prefixed by \"User:\", their talk pages by \"User talk:\" templates by \"Template:\" and various types of internal administrative pages by \"Wikipedia:\" (such as this page). Thus, any page created without such a prefix will automatically be placed in the article namespace.\n",
    "\n",
    "The main namespace does not include any pages in any of the specified namespaces that are used for particular purposes, such as:\n",
    "\n",
    "the talk namespaces for discussing what the content of articles in mainspace should be (for example, Talk:Mathematics)\n",
    "the Wikipedia namespace, for material about meta subjects related to Wikipedia and is where policies and guidelines, essays, information, and process pages reside, as well as other \"meta\" topics about editing Wikipedia (examples, WP:VERIFY and Wikipedia:Statistics);\n",
    "the Wikipedia talk namespace, for discussing what the content of pages in Wikipedia space should be, and interpretations of them (for example, Wikipedia talk:VERIFY and Wikipedia talk:Statistics);\n",
    "the special namespace, whose pages are created by the software on demand (see Help:Special page);\n",
    "the user namespace for pages that are used by individual Wikipedia writers (example, User:Example).\n",
    "the file namespace which is used for describing and attributing images (example, File:Great Horned Owl.USFWS.jpg)\n",
    "the MediaWiki namespace, which is used to define shortcuts and other text strings used around Wikipedia (example MediaWiki:Wikimedia-copyrightwarning)\"\"\""
   ]
  },
  {
   "cell_type": "code",
   "execution_count": 4,
   "id": "652a42e3-f32a-409b-af94-7dfe1867794d",
   "metadata": {},
   "outputs": [
    {
     "data": {
      "text/plain": [
       "'The main namespace is the default namespace and does not use a prefix in article page names. This is distinct from other namespaces, where page names are always prefixed by an indicator of the particu'"
      ]
     },
     "execution_count": 4,
     "metadata": {},
     "output_type": "execute_result"
    }
   ],
   "source": [
    "text[:200]"
   ]
  },
  {
   "cell_type": "code",
   "execution_count": 5,
   "id": "91f96ca6-be61-4cbf-9190-9035981249f6",
   "metadata": {},
   "outputs": [],
   "source": [
    "chunks = []\n",
    "s = \"\"\n",
    "words = \"abcd\" \n",
    "for word in words:\n",
    "    s += words + \"\"\n",
    "    if len(s)>200:\n",
    "        chunks.append(s)\n",
    "        s = \"\"\n",
    "chunks.append(s)"
   ]
  },
  {
   "cell_type": "code",
   "execution_count": 6,
   "id": "dfc03926-c2d5-4482-9e38-656508951f60",
   "metadata": {},
   "outputs": [
    {
     "data": {
      "text/plain": [
       "['abcdabcdabcdabcd']"
      ]
     },
     "execution_count": 6,
     "metadata": {},
     "output_type": "execute_result"
    }
   ],
   "source": [
    "chunks"
   ]
  },
  {
   "cell_type": "code",
   "execution_count": 7,
   "id": "97c1f090-f54f-4528-8dec-86650ac3a7b6",
   "metadata": {},
   "outputs": [
    {
     "name": "stderr",
     "output_type": "stream",
     "text": [
      "Created a chunk of size 539, which is longer than the specified 200\n",
      "Created a chunk of size 266, which is longer than the specified 200\n"
     ]
    },
    {
     "data": {
      "text/plain": [
       "8"
      ]
     },
     "execution_count": 7,
     "metadata": {},
     "output_type": "execute_result"
    }
   ],
   "source": [
    "from langchain.text_splitter import CharacterTextSplitter\n",
    "splitter = CharacterTextSplitter(\n",
    "    separator=\"\\n\",\n",
    "    chunk_size=200,\n",
    "    chunk_overlap=0\n",
    ")\n",
    "chunks = splitter.split_text(text)\n",
    "len(chunks)"
   ]
  },
  {
   "cell_type": "code",
   "execution_count": 8,
   "id": "299e9082-1aa3-4f15-9173-b05ff65dacf1",
   "metadata": {},
   "outputs": [
    {
     "name": "stdout",
     "output_type": "stream",
     "text": [
      "Requirement already satisfied: langchain in c:\\python312\\lib\\site-packages (0.2.5)\n",
      "Requirement already satisfied: PyYAML>=5.3 in c:\\python312\\lib\\site-packages (from langchain) (6.0.1)\n",
      "Requirement already satisfied: SQLAlchemy<3,>=1.4 in c:\\python312\\lib\\site-packages (from langchain) (2.0.31)\n",
      "Requirement already satisfied: aiohttp<4.0.0,>=3.8.3 in c:\\python312\\lib\\site-packages (from langchain) (3.9.5)\n",
      "Requirement already satisfied: langchain-core<0.3.0,>=0.2.7 in c:\\python312\\lib\\site-packages (from langchain) (0.2.9)\n",
      "Requirement already satisfied: langchain-text-splitters<0.3.0,>=0.2.0 in c:\\python312\\lib\\site-packages (from langchain) (0.2.1)\n",
      "Requirement already satisfied: langsmith<0.2.0,>=0.1.17 in c:\\python312\\lib\\site-packages (from langchain) (0.1.81)\n",
      "Requirement already satisfied: numpy<2.0.0,>=1.26.0 in c:\\python312\\lib\\site-packages (from langchain) (1.26.4)\n",
      "Requirement already satisfied: pydantic<3,>=1 in c:\\python312\\lib\\site-packages (from langchain) (2.7.4)\n",
      "Requirement already satisfied: requests<3,>=2 in c:\\python312\\lib\\site-packages (from langchain) (2.32.3)\n",
      "Requirement already satisfied: tenacity<9.0.0,>=8.1.0 in c:\\python312\\lib\\site-packages (from langchain) (8.4.1)\n",
      "Requirement already satisfied: aiosignal>=1.1.2 in c:\\python312\\lib\\site-packages (from aiohttp<4.0.0,>=3.8.3->langchain) (1.3.1)\n",
      "Requirement already satisfied: attrs>=17.3.0 in c:\\python312\\lib\\site-packages (from aiohttp<4.0.0,>=3.8.3->langchain) (23.2.0)\n",
      "Requirement already satisfied: frozenlist>=1.1.1 in c:\\python312\\lib\\site-packages (from aiohttp<4.0.0,>=3.8.3->langchain) (1.4.1)\n",
      "Requirement already satisfied: multidict<7.0,>=4.5 in c:\\python312\\lib\\site-packages (from aiohttp<4.0.0,>=3.8.3->langchain) (6.0.5)\n",
      "Requirement already satisfied: yarl<2.0,>=1.0 in c:\\python312\\lib\\site-packages (from aiohttp<4.0.0,>=3.8.3->langchain) (1.9.4)\n",
      "Requirement already satisfied: jsonpatch<2.0,>=1.33 in c:\\python312\\lib\\site-packages (from langchain-core<0.3.0,>=0.2.7->langchain) (1.33)\n",
      "Requirement already satisfied: packaging<25,>=23.2 in c:\\python312\\lib\\site-packages (from langchain-core<0.3.0,>=0.2.7->langchain) (24.1)\n",
      "Requirement already satisfied: orjson<4.0.0,>=3.9.14 in c:\\python312\\lib\\site-packages (from langsmith<0.2.0,>=0.1.17->langchain) (3.10.5)\n",
      "Requirement already satisfied: annotated-types>=0.4.0 in c:\\python312\\lib\\site-packages (from pydantic<3,>=1->langchain) (0.7.0)\n",
      "Requirement already satisfied: pydantic-core==2.18.4 in c:\\python312\\lib\\site-packages (from pydantic<3,>=1->langchain) (2.18.4)\n",
      "Requirement already satisfied: typing-extensions>=4.6.1 in c:\\python312\\lib\\site-packages (from pydantic<3,>=1->langchain) (4.12.2)\n",
      "Requirement already satisfied: charset-normalizer<4,>=2 in c:\\python312\\lib\\site-packages (from requests<3,>=2->langchain) (3.3.2)\n",
      "Requirement already satisfied: idna<4,>=2.5 in c:\\python312\\lib\\site-packages (from requests<3,>=2->langchain) (3.7)\n",
      "Requirement already satisfied: urllib3<3,>=1.21.1 in c:\\python312\\lib\\site-packages (from requests<3,>=2->langchain) (2.2.2)\n",
      "Requirement already satisfied: certifi>=2017.4.17 in c:\\python312\\lib\\site-packages (from requests<3,>=2->langchain) (2024.6.2)\n",
      "Requirement already satisfied: greenlet!=0.4.17 in c:\\python312\\lib\\site-packages (from SQLAlchemy<3,>=1.4->langchain) (3.0.3)\n",
      "Requirement already satisfied: jsonpointer>=1.9 in c:\\python312\\lib\\site-packages (from jsonpatch<2.0,>=1.33->langchain-core<0.3.0,>=0.2.7->langchain) (3.0.0)\n",
      "Note: you may need to restart the kernel to use updated packages.\n"
     ]
    },
    {
     "name": "stderr",
     "output_type": "stream",
     "text": [
      "\n",
      "[notice] A new release of pip is available: 24.1.1 -> 24.2\n",
      "[notice] To update, run: python.exe -m pip install --upgrade pip\n"
     ]
    }
   ],
   "source": [
    "pip install langchain"
   ]
  },
  {
   "cell_type": "code",
   "execution_count": 9,
   "id": "e8869570-a8a3-4b37-b67f-5bc4e61e39b2",
   "metadata": {},
   "outputs": [
    {
     "name": "stderr",
     "output_type": "stream",
     "text": [
      "Created a chunk of size 539, which is longer than the specified 200\n",
      "Created a chunk of size 266, which is longer than the specified 200\n"
     ]
    },
    {
     "data": {
      "text/plain": [
       "8"
      ]
     },
     "execution_count": 9,
     "metadata": {},
     "output_type": "execute_result"
    }
   ],
   "source": [
    "from langchain.text_splitter import CharacterTextSplitter\n",
    "splitter = CharacterTextSplitter(\n",
    "    separator=\"\\n\",\n",
    "    chunk_size=200,\n",
    "    chunk_overlap=0\n",
    ")\n",
    "chunks = splitter.split_text(text)\n",
    "len(chunks)"
   ]
  },
  {
   "cell_type": "code",
   "execution_count": 10,
   "id": "faadd040-79a6-4a5a-8916-c7e6505ff817",
   "metadata": {},
   "outputs": [
    {
     "name": "stdout",
     "output_type": "stream",
     "text": [
      "8\n",
      "8\n",
      "8\n",
      "8\n",
      "8\n",
      "8\n",
      "8\n",
      "8\n"
     ]
    }
   ],
   "source": [
    "for chunk in chunks:\n",
    "    print(len(chunks))"
   ]
  },
  {
   "cell_type": "code",
   "execution_count": 11,
   "id": "0ac4cb53-f804-4b6d-9fb3-53d8be02b9ea",
   "metadata": {},
   "outputs": [
    {
     "data": {
      "text/plain": [
       "11"
      ]
     },
     "execution_count": 11,
     "metadata": {},
     "output_type": "execute_result"
    }
   ],
   "source": [
    "from langchain.text_splitter import RecursiveCharacterTextSplitter\n",
    "r_splitter = RecursiveCharacterTextSplitter(\n",
    "    separators = [\"\\n\\n\", \"\\n\", \" \"], \n",
    "    chunk_size=200,\n",
    "    chunk_overlap=0\n",
    ")\n",
    "chunks = r_splitter.split_text(text)\n",
    "len(chunks)\n",
    "\n"
   ]
  },
  {
   "cell_type": "code",
   "execution_count": 12,
   "id": "693582b2-b5a7-437a-944c-12a4dcb81873",
   "metadata": {},
   "outputs": [
    {
     "name": "stdout",
     "output_type": "stream",
     "text": [
      "11\n",
      "11\n",
      "11\n",
      "11\n",
      "11\n",
      "11\n",
      "11\n",
      "11\n",
      "11\n",
      "11\n",
      "11\n"
     ]
    }
   ],
   "source": [
    "for chunk in chunks:\n",
    "    print(len(chunks))"
   ]
  },
  {
   "cell_type": "code",
   "execution_count": 13,
   "id": "c61d5280-1c7c-4870-afa0-425650946a80",
   "metadata": {},
   "outputs": [
    {
     "data": {
      "text/plain": [
       "['The main namespace is the default namespace and does not use a prefix in article page names. This is distinct from other namespaces, where page names are always prefixed by an indicator of the particular namespace in which the page resides. For example, all user pages are prefixed by \"User:\", their talk pages by \"User talk:\" templates by \"Template:\" and various types of internal administrative pages by \"Wikipedia:\" (such as this page). Thus, any page created without such a prefix will automatically be placed in the article namespace.',\n",
       " '',\n",
       " 'The main namespace does not include any pages in any of the specified namespaces that are used for particular purposes, such as:',\n",
       " '',\n",
       " 'the talk namespaces for discussing what the content of articles in mainspace should be (for example, Talk:Mathematics)',\n",
       " 'the Wikipedia namespace, for material about meta subjects related to Wikipedia and is where policies and guidelines, essays, information, and process pages reside, as well as other \"meta\" topics about editing Wikipedia (examples, WP:VERIFY and Wikipedia:Statistics);',\n",
       " 'the Wikipedia talk namespace, for discussing what the content of pages in Wikipedia space should be, and interpretations of them (for example, Wikipedia talk:VERIFY and Wikipedia talk:Statistics);',\n",
       " 'the special namespace, whose pages are created by the software on demand (see Help:Special page);',\n",
       " 'the user namespace for pages that are used by individual Wikipedia writers (example, User:Example).',\n",
       " 'the file namespace which is used for describing and attributing images (example, File:Great Horned Owl.USFWS.jpg)',\n",
       " 'the MediaWiki namespace, which is used to define shortcuts and other text strings used around Wikipedia (example MediaWiki:Wikimedia-copyrightwarning)']"
      ]
     },
     "execution_count": 13,
     "metadata": {},
     "output_type": "execute_result"
    }
   ],
   "source": [
    "chunks = text.split(\"\\n\")\n",
    "chunks"
   ]
  },
  {
   "cell_type": "code",
   "execution_count": 14,
   "id": "fb8bac62-3c37-46e8-9a82-6218cd07f206",
   "metadata": {},
   "outputs": [
    {
     "name": "stdout",
     "output_type": "stream",
     "text": [
      "11\n"
     ]
    }
   ],
   "source": [
    "chunks = text.split(\"\\n\")\n",
    "chunks\n",
    "print(len(chunks))"
   ]
  },
  {
   "cell_type": "code",
   "execution_count": 15,
   "id": "6de9e394-ee67-4942-8e0b-8c45e4639d4a",
   "metadata": {},
   "outputs": [
    {
     "data": {
      "text/plain": [
       "'The main namespace is the default namespace and does not use a prefix in article page names. This is distinct from other namespaces, where page names are always prefixed by an indicator of the particular namespace in which the page resides. For example, all user pages are prefixed by \"User:\", their talk pages by \"User talk:\" templates by \"Template:\" and various types of internal administrative pages by \"Wikipedia:\" (such as this page). Thus, any page created without such a prefix will automatically be placed in the article namespace.'"
      ]
     },
     "execution_count": 15,
     "metadata": {},
     "output_type": "execute_result"
    }
   ],
   "source": [
    "first_split = chunks[0]\n",
    "first_split"
   ]
  },
  {
   "cell_type": "code",
   "execution_count": 16,
   "id": "e4258581-c609-42fd-a99e-bbdbe8481cc0",
   "metadata": {},
   "outputs": [
    {
     "name": "stderr",
     "output_type": "stream",
     "text": [
      "ERROR: Could not find a version that satisfies the requirement faiss (from versions: none)\n",
      "ERROR: No matching distribution found for faiss\n",
      "\n",
      "[notice] A new release of pip is available: 24.1.1 -> 24.2\n",
      "[notice] To update, run: python.exe -m pip install --upgrade pip\n"
     ]
    },
    {
     "name": "stdout",
     "output_type": "stream",
     "text": [
      "Requirement already satisfied: sentence-transformers in c:\\python312\\lib\\site-packages (3.0.1)\n",
      "Requirement already satisfied: transformers<5.0.0,>=4.34.0 in c:\\python312\\lib\\site-packages (from sentence-transformers) (4.42.3)\n",
      "Requirement already satisfied: tqdm in c:\\python312\\lib\\site-packages (from sentence-transformers) (4.66.4)\n",
      "Requirement already satisfied: torch>=1.11.0 in c:\\python312\\lib\\site-packages (from sentence-transformers) (2.3.1)\n",
      "Requirement already satisfied: numpy in c:\\python312\\lib\\site-packages (from sentence-transformers) (1.26.4)\n",
      "Requirement already satisfied: scikit-learn in c:\\python312\\lib\\site-packages (from sentence-transformers) (1.5.1)\n",
      "Requirement already satisfied: scipy in c:\\python312\\lib\\site-packages (from sentence-transformers) (1.14.0)\n",
      "Requirement already satisfied: huggingface-hub>=0.15.1 in c:\\python312\\lib\\site-packages (from sentence-transformers) (0.23.4)\n",
      "Requirement already satisfied: Pillow in c:\\python312\\lib\\site-packages (from sentence-transformers) (10.4.0)\n",
      "Requirement already satisfied: filelock in c:\\python312\\lib\\site-packages (from huggingface-hub>=0.15.1->sentence-transformers) (3.15.4)\n",
      "Requirement already satisfied: fsspec>=2023.5.0 in c:\\python312\\lib\\site-packages (from huggingface-hub>=0.15.1->sentence-transformers) (2024.6.1)\n",
      "Requirement already satisfied: packaging>=20.9 in c:\\python312\\lib\\site-packages (from huggingface-hub>=0.15.1->sentence-transformers) (24.1)\n",
      "Requirement already satisfied: pyyaml>=5.1 in c:\\python312\\lib\\site-packages (from huggingface-hub>=0.15.1->sentence-transformers) (6.0.1)\n",
      "Requirement already satisfied: requests in c:\\python312\\lib\\site-packages (from huggingface-hub>=0.15.1->sentence-transformers) (2.32.3)\n",
      "Requirement already satisfied: typing-extensions>=3.7.4.3 in c:\\python312\\lib\\site-packages (from huggingface-hub>=0.15.1->sentence-transformers) (4.12.2)\n",
      "Requirement already satisfied: sympy in c:\\python312\\lib\\site-packages (from torch>=1.11.0->sentence-transformers) (1.12.1)\n",
      "Requirement already satisfied: networkx in c:\\python312\\lib\\site-packages (from torch>=1.11.0->sentence-transformers) (3.3)\n",
      "Requirement already satisfied: jinja2 in c:\\python312\\lib\\site-packages (from torch>=1.11.0->sentence-transformers) (3.1.4)\n",
      "Requirement already satisfied: mkl<=2021.4.0,>=2021.1.1 in c:\\python312\\lib\\site-packages (from torch>=1.11.0->sentence-transformers) (2021.4.0)\n",
      "Requirement already satisfied: colorama in c:\\python312\\lib\\site-packages (from tqdm->sentence-transformers) (0.4.6)\n",
      "Requirement already satisfied: regex!=2019.12.17 in c:\\python312\\lib\\site-packages (from transformers<5.0.0,>=4.34.0->sentence-transformers) (2024.5.15)\n",
      "Requirement already satisfied: safetensors>=0.4.1 in c:\\python312\\lib\\site-packages (from transformers<5.0.0,>=4.34.0->sentence-transformers) (0.4.3)\n",
      "Requirement already satisfied: tokenizers<0.20,>=0.19 in c:\\python312\\lib\\site-packages (from transformers<5.0.0,>=4.34.0->sentence-transformers) (0.19.1)\n",
      "Requirement already satisfied: joblib>=1.2.0 in c:\\python312\\lib\\site-packages (from scikit-learn->sentence-transformers) (1.4.2)\n",
      "Requirement already satisfied: threadpoolctl>=3.1.0 in c:\\python312\\lib\\site-packages (from scikit-learn->sentence-transformers) (3.5.0)\n",
      "Requirement already satisfied: intel-openmp==2021.* in c:\\python312\\lib\\site-packages (from mkl<=2021.4.0,>=2021.1.1->torch>=1.11.0->sentence-transformers) (2021.4.0)\n",
      "Requirement already satisfied: tbb==2021.* in c:\\python312\\lib\\site-packages (from mkl<=2021.4.0,>=2021.1.1->torch>=1.11.0->sentence-transformers) (2021.13.0)\n",
      "Requirement already satisfied: MarkupSafe>=2.0 in c:\\python312\\lib\\site-packages (from jinja2->torch>=1.11.0->sentence-transformers) (2.1.5)\n",
      "Requirement already satisfied: charset-normalizer<4,>=2 in c:\\python312\\lib\\site-packages (from requests->huggingface-hub>=0.15.1->sentence-transformers) (3.3.2)\n",
      "Requirement already satisfied: idna<4,>=2.5 in c:\\python312\\lib\\site-packages (from requests->huggingface-hub>=0.15.1->sentence-transformers) (3.7)\n",
      "Requirement already satisfied: urllib3<3,>=1.21.1 in c:\\python312\\lib\\site-packages (from requests->huggingface-hub>=0.15.1->sentence-transformers) (2.2.2)\n",
      "Requirement already satisfied: certifi>=2017.4.17 in c:\\python312\\lib\\site-packages (from requests->huggingface-hub>=0.15.1->sentence-transformers) (2024.6.2)\n",
      "Requirement already satisfied: mpmath<1.4.0,>=1.1.0 in c:\\python312\\lib\\site-packages (from sympy->torch>=1.11.0->sentence-transformers) (1.3.0)\n"
     ]
    },
    {
     "name": "stderr",
     "output_type": "stream",
     "text": [
      "\n",
      "[notice] A new release of pip is available: 24.1.1 -> 24.2\n",
      "[notice] To update, run: python.exe -m pip install --upgrade pip\n"
     ]
    }
   ],
   "source": [
    "!pip install faiss cpu\n",
    "!pip install sentence-transformers"
   ]
  },
  {
   "cell_type": "code",
   "execution_count": 17,
   "id": "ecc3491d-07c6-4c01-933f-7ead489f494a",
   "metadata": {},
   "outputs": [
    {
     "name": "stdout",
     "output_type": "stream",
     "text": [
      "Requirement already satisfied: pip in c:\\python312\\lib\\site-packages (24.1.1)\n",
      "Collecting pip\n",
      "  Downloading pip-24.2-py3-none-any.whl.metadata (3.6 kB)\n",
      "Downloading pip-24.2-py3-none-any.whl (1.8 MB)\n",
      "   ---------------------------------------- 0.0/1.8 MB ? eta -:--:--\n",
      "    --------------------------------------- 0.0/1.8 MB 640.0 kB/s eta 0:00:03\n",
      "    --------------------------------------- 0.0/1.8 MB 640.0 kB/s eta 0:00:03\n",
      "    --------------------------------------- 0.0/1.8 MB 640.0 kB/s eta 0:00:03\n",
      "    --------------------------------------- 0.0/1.8 MB 640.0 kB/s eta 0:00:03\n",
      "    --------------------------------------- 0.0/1.8 MB 640.0 kB/s eta 0:00:03\n",
      "    --------------------------------------- 0.0/1.8 MB 640.0 kB/s eta 0:00:03\n",
      "   - -------------------------------------- 0.1/1.8 MB 163.6 kB/s eta 0:00:11\n",
      "   - -------------------------------------- 0.1/1.8 MB 186.7 kB/s eta 0:00:10\n",
      "   -- ------------------------------------- 0.1/1.8 MB 251.6 kB/s eta 0:00:07\n",
      "   -- ------------------------------------- 0.1/1.8 MB 251.6 kB/s eta 0:00:07\n",
      "   -- ------------------------------------- 0.1/1.8 MB 251.6 kB/s eta 0:00:07\n",
      "   -- ------------------------------------- 0.1/1.8 MB 251.6 kB/s eta 0:00:07\n",
      "   -- ------------------------------------- 0.1/1.8 MB 251.6 kB/s eta 0:00:07\n",
      "   --- ------------------------------------ 0.2/1.8 MB 229.4 kB/s eta 0:00:08\n",
      "   ---- ----------------------------------- 0.2/1.8 MB 289.5 kB/s eta 0:00:06\n",
      "   ----- ---------------------------------- 0.2/1.8 MB 327.4 kB/s eta 0:00:05\n",
      "   ----- ---------------------------------- 0.2/1.8 MB 327.4 kB/s eta 0:00:05\n",
      "   ----- ---------------------------------- 0.2/1.8 MB 327.4 kB/s eta 0:00:05\n",
      "   ----- ---------------------------------- 0.2/1.8 MB 327.4 kB/s eta 0:00:05\n",
      "   ----- ---------------------------------- 0.2/1.8 MB 327.4 kB/s eta 0:00:05\n",
      "   ------ --------------------------------- 0.3/1.8 MB 327.5 kB/s eta 0:00:05\n",
      "   ------ --------------------------------- 0.3/1.8 MB 327.5 kB/s eta 0:00:05\n",
      "   -------- ------------------------------- 0.4/1.8 MB 347.3 kB/s eta 0:00:05\n",
      "   -------- ------------------------------- 0.4/1.8 MB 361.9 kB/s eta 0:00:04\n",
      "   -------- ------------------------------- 0.4/1.8 MB 355.7 kB/s eta 0:00:04\n",
      "   -------- ------------------------------- 0.4/1.8 MB 355.7 kB/s eta 0:00:04\n",
      "   -------- ------------------------------- 0.4/1.8 MB 355.7 kB/s eta 0:00:04\n",
      "   --------- ------------------------------ 0.4/1.8 MB 344.1 kB/s eta 0:00:04\n",
      "   --------- ------------------------------ 0.5/1.8 MB 352.3 kB/s eta 0:00:04\n",
      "   ------------ --------------------------- 0.6/1.8 MB 403.8 kB/s eta 0:00:04\n",
      "   ------------ --------------------------- 0.6/1.8 MB 417.0 kB/s eta 0:00:03\n",
      "   ------------- -------------------------- 0.6/1.8 MB 427.0 kB/s eta 0:00:03\n",
      "   ------------- -------------------------- 0.6/1.8 MB 411.3 kB/s eta 0:00:03\n",
      "   ------------- -------------------------- 0.6/1.8 MB 416.4 kB/s eta 0:00:03\n",
      "   -------------- ------------------------- 0.6/1.8 MB 406.2 kB/s eta 0:00:03\n",
      "   -------------- ------------------------- 0.6/1.8 MB 406.2 kB/s eta 0:00:03\n",
      "   ---------------- ----------------------- 0.7/1.8 MB 428.7 kB/s eta 0:00:03\n",
      "   ----------------- ---------------------- 0.8/1.8 MB 446.8 kB/s eta 0:00:03\n",
      "   ----------------- ---------------------- 0.8/1.8 MB 452.3 kB/s eta 0:00:03\n",
      "   ------------------ --------------------- 0.8/1.8 MB 467.3 kB/s eta 0:00:03\n",
      "   ------------------ --------------------- 0.9/1.8 MB 456.9 kB/s eta 0:00:03\n",
      "   -------------------- ------------------- 0.9/1.8 MB 488.6 kB/s eta 0:00:02\n",
      "   ---------------------- ----------------- 1.0/1.8 MB 513.6 kB/s eta 0:00:02\n",
      "   ---------------------- ----------------- 1.0/1.8 MB 514.9 kB/s eta 0:00:02\n",
      "   ----------------------- ---------------- 1.1/1.8 MB 514.0 kB/s eta 0:00:02\n",
      "   ------------------------ --------------- 1.1/1.8 MB 533.0 kB/s eta 0:00:02\n",
      "   ------------------------- -------------- 1.2/1.8 MB 545.2 kB/s eta 0:00:02\n",
      "   --------------------------- ------------ 1.2/1.8 MB 561.6 kB/s eta 0:00:02\n",
      "   --------------------------- ------------ 1.3/1.8 MB 559.0 kB/s eta 0:00:01\n",
      "   ---------------------------- ----------- 1.3/1.8 MB 561.7 kB/s eta 0:00:01\n",
      "   ------------------------------ --------- 1.4/1.8 MB 584.8 kB/s eta 0:00:01\n",
      "   ------------------------------ --------- 1.4/1.8 MB 586.4 kB/s eta 0:00:01\n",
      "   -------------------------------- ------- 1.5/1.8 MB 600.4 kB/s eta 0:00:01\n",
      "   --------------------------------- ------ 1.5/1.8 MB 605.5 kB/s eta 0:00:01\n",
      "   ---------------------------------- ----- 1.5/1.8 MB 610.5 kB/s eta 0:00:01\n",
      "   ----------------------------------- ---- 1.6/1.8 MB 623.2 kB/s eta 0:00:01\n",
      "   ------------------------------------ --- 1.7/1.8 MB 635.6 kB/s eta 0:00:01\n",
      "   ------------------------------------- -- 1.7/1.8 MB 639.8 kB/s eta 0:00:01\n",
      "   -------------------------------------- - 1.8/1.8 MB 651.4 kB/s eta 0:00:01\n",
      "   ---------------------------------------  1.8/1.8 MB 659.0 kB/s eta 0:00:01\n",
      "   ---------------------------------------  1.8/1.8 MB 659.0 kB/s eta 0:00:01\n",
      "   ---------------------------------------- 1.8/1.8 MB 645.3 kB/s eta 0:00:00\n",
      "Installing collected packages: pip\n",
      "  Attempting uninstall: pip\n",
      "    Found existing installation: pip 24.1.1\n",
      "    Uninstalling pip-24.1.1:\n",
      "      Successfully uninstalled pip-24.1.1\n",
      "Successfully installed pip-24.2\n",
      "Note: you may need to restart the kernel to use updated packages.\n"
     ]
    }
   ],
   "source": [
    "pip install --upgrade pip"
   ]
  },
  {
   "cell_type": "code",
   "execution_count": null,
   "id": "b939a6a0-f8c1-42e1-beb8-630271a74470",
   "metadata": {},
   "outputs": [],
   "source": []
  }
 ],
 "metadata": {
  "kernelspec": {
   "display_name": "Python 3 (ipykernel)",
   "language": "python",
   "name": "python3"
  },
  "language_info": {
   "codemirror_mode": {
    "name": "ipython",
    "version": 3
   },
   "file_extension": ".py",
   "mimetype": "text/x-python",
   "name": "python",
   "nbconvert_exporter": "python",
   "pygments_lexer": "ipython3",
   "version": "3.12.4"
  }
 },
 "nbformat": 4,
 "nbformat_minor": 5
}
